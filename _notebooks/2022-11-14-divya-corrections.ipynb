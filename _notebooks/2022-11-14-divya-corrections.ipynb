{
 "cells": [
  {
   "cell_type": "markdown",
   "metadata": {},
   "source": [
    "# 66 Question MC \n",
    "> Overall Test Corrections and Review\n",
    "\n",
    "- toc: false \n",
    "- badges: true\n",
    "- comments: true\n",
    "- categories: [pbl]\n",
    "- permalink: /pbl/corrections"
   ]
  },
  {
   "cell_type": "markdown",
   "metadata": {},
   "source": [
    "## Score: 42/66 \n",
    "\n",
    "### Reflection:\n",
    "\n",
    "Matching accuracy with timing was my biggest downfall; I prioritized timing over getting the questions correct much more, which contributed to my not getting the best score. \n",
    "\n",
    "Most missed questions centered around Unit 3 and Unit 6, though I should revise much of my studying and understanding of the topics overall. \n",
    "\n",
    "I plan to look back at old hacks and restudy my notes on each of the units; I got a bit lucky this time with my score, and I need to ensure I stay prepared for the 55q quiz due next week.\n",
    "\n",
    "See individual reviews per question below."
   ]
  },
  {
   "cell_type": "markdown",
   "metadata": {},
   "source": [
    "## Test Corrections:"
   ]
  }
 ],
 "metadata": {
  "kernelspec": {
   "display_name": "Python 3.10.5 64-bit",
   "language": "python",
   "name": "python3"
  },
  "language_info": {
   "name": "python",
   "version": "3.10.5"
  },
  "orig_nbformat": 4,
  "vscode": {
   "interpreter": {
    "hash": "bc8cf01c5e0744173b629e941ab5d786dde8ac859fc24d3062e71e885b7b14a9"
   }
  }
 },
 "nbformat": 4,
 "nbformat_minor": 2
}
