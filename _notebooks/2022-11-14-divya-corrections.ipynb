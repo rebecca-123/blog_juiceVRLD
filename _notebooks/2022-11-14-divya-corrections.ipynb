{
 "cells": [
  {
   "cell_type": "markdown",
   "metadata": {},
   "source": [
    "# \"Test Corrections\"\n",
    "> 2014 MC.\n",
    "\n",
    "- toc: false \n",
    "- badges: true\n",
    "- comments: true\n",
    "- categories: [pbl]\n",
    "- permalink: /pbl/corrections"
   ]
  },
  {
   "cell_type": "markdown",
   "metadata": {},
   "source": [
    "## Question 2\n",
    "### My answer was D when the actual answer was A. Since getA is not a static method, it must be called with an object of SomeClass rather than the class name."
   ]
  },
 "metadata": {
  "kernelspec": {
   "display_name": "Python 3.10.5 64-bit",
   "language": "python",
   "name": "python3"
  },
  "language_info": {
   "name": "python",
   "version": "3.10.5"
  },
  "orig_nbformat": 4,
  "vscode": {
   "interpreter": {
    "hash": "bc8cf01c5e0744173b629e941ab5d786dde8ac859fc24d3062e71e885b7b14a9"
   }
  }
 },
 "nbformat": 4,
 "nbformat_minor": 2
}
